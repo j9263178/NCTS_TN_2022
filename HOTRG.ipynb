{
 "cells": [
  {
   "cell_type": "markdown",
   "id": "2e1d01dc-311e-44f0-8f71-cff6920aeeef",
   "metadata": {},
   "source": [
    "# HOTRG (cytnx version)\n",
    "## Demo-8\n",
    "* Author: Pochung Chen\n",
    "* Last update: 2022/8/26\n",
    "* Α α, Β β, Γ γ, Δ δ, Ε ε, Ζ ζ, Η η, Θ θ, Ι ι, Κ κ, Λ λ, Μ μ, Ν ν, Ξ ξ, Ο ο, Π π, Ρ ρ, Σ σ/ς, Τ τ, Υ υ, Φ φ, Χ χ, Ψ ψ, and Ω ω"
   ]
  },
  {
   "cell_type": "markdown",
   "id": "f6a6de5e-995c-4b57-97fb-d7e1d9883051",
   "metadata": {},
   "source": [
    "## 2D Classical Ising model\n",
    "\n",
    "### Hamiltonian, partition function, transfer matrix\n",
    "\n",
    "The Hamiltonian of 2D classical Ising model:\n",
    "\n",
    "$$ \\large\n",
    "  H[ \\{ s \\} ] = -J \\sum_{\\langle i, j\\rangle} s_i s_j - h \\sum_i s_i,\n",
    "$$\n",
    "\n",
    "We will mostly focus on the case of $h=0$ and \n",
    "\n",
    "$$ \\large\n",
    "  T_c=\\frac{2}{\\ln(1+\\sqrt{2})}.\n",
    "$$\n",
    "\n",
    "For a system of $L_x$ columns and $L_y$ rows with the periodic boundary condition,\n",
    "the partition function can be written as\n",
    "\n",
    "$$ \\large\n",
    "  Z(L_x, L_y) \n",
    "  = \\sum_{ \\{ s \\} } e^{-\\beta H[\\{ s\\}]}\n",
    "  =\\text{Tr}\\left[ \\mathcal{T}^{L_x}(L_y)  \\right],\n",
    "$$\n",
    "\n",
    "where $\\beta$ is the inverse temperature and \n",
    "$\\mathcal{T}(L_y)$ is the column-to-column transfer matrix with $L_y$ sites in the column.\n",
    "We will denote transfer matrix's eigenvectors and the eigenvalues of the transfer matrix as $|\\lambda_i(L_y)\\rangle$  and $\\lambda_i(L_y)$ respectively, where $i=0, \\dots, 2^{L_y}-1$. "
   ]
  },
  {
   "cell_type": "markdown",
   "id": "a8c060f1-92fc-4557-896c-ff2b29df5218",
   "metadata": {},
   "source": [
    "### Eigenvalues of the transfer matrix\n",
    "\n",
    "Due to $Z_2$ symmetry \n",
    "\n",
    "$$ \\large\n",
    "  \\lambda_{+} = (2\\sinh(2K))^{\\frac{L_y}{2}} \n",
    "  e^{ \\frac{1}{2} ( \\pm \\gamma_1 \\pm \\gamma_3 \\cdots \\pm \\gamma_{2L_y-1}) }\n",
    "$$\n",
    "$$ \\large\n",
    "  \\lambda_{-} = (2\\sinh(2K))^{\\frac{L_y}{2}} \n",
    "  e^{ \\frac{1}{2} ( \\pm \\gamma_0 \\pm \\gamma_2 \\cdots \\pm \\gamma_{2L_y-2}) },\n",
    "$$\n",
    "where $K=\\beta J$."
   ]
  },
  {
   "cell_type": "markdown",
   "id": "1e8d23c8-7d27-462d-aaf5-ea46332cc1ff",
   "metadata": {},
   "source": [
    "### Free energy per site\n",
    "\n",
    "Free energy per site\n",
    "\n",
    "$$ \\large\n",
    "    -\\beta f(L_x, L_y)\n",
    "  = \\frac{ \\ln\\left( Z(L_x, L_y ) \\right)   }{L_x L_y}\n",
    "  = \\frac{ \\ln\\left( \\sum_{i=0}^{2^{L_y}-1} \\lambda_i^{L_x}(L_y) \\right)   }{L_x L_y}. \n",
    "$$\n",
    "\n",
    "When $L_x \\rightarrow \\infty$ \n",
    "$$ \\large\n",
    "  -\\beta f(L_x=\\infty, L_y) = \\frac{\\ln( \\lambda_0(L_y) )}{L_y} = -\\frac{E_0(L_y)}{L_y},\n",
    "$$\n",
    "where we define \n",
    "$$ \\large\n",
    "  E_i(L_y) = -\\ln\\left( \\lambda_i(L_y) \\right).\n",
    "$$"
   ]
  },
  {
   "cell_type": "markdown",
   "id": "f3371781-861a-4cd9-a0d0-5b91382a0607",
   "metadata": {},
   "source": [
    "## HOTRG"
   ]
  },
  {
   "cell_type": "markdown",
   "id": "8ce21d98-eae3-427a-a036-991d32cb25d2",
   "metadata": {},
   "source": [
    "Two site Hamiltonian: \n",
    "$$ \\large\n",
    "  E(s_1, s_2) = -Js_1 s_2\n",
    "$$\n",
    "\n",
    "Boltzmann weight on the bond:\n",
    "$$ \\large\n",
    "  W = e^{-\\beta E} = \n",
    "  \\left[ \\begin{array}{cc}\n",
    "  e^{+\\beta J} & e^{-\\beta J} \\\\\n",
    "  e^{-\\beta J} & e^{+\\beta J}\n",
    "  \\end{array} \\right]\n",
    "$$\n",
    "\n",
    "Decompose $W$ as $M M^\\dagger$, where\n",
    "$$ \\large\n",
    "  W = e^{-\\beta E} = M M^\\dagger,\n",
    "  M = \n",
    "  \\left[ \\begin{array}{cc}\n",
    "  +\\sqrt{\\cosh{\\beta J}} & +\\sqrt{\\sinh{\\beta J}} \\\\\n",
    "  +\\sqrt{\\cosh{\\beta J}} & -\\sqrt{\\sinh{\\beta J}}\n",
    "  \\end{array} \\right]\n",
    "$$\n",
    "\n",
    "Numerically, we first perform SVD on $W$ to obtain $M$ and $M^\\dagger$:\n",
    "$$ \\large\n",
    "  W = U S V^\\dagger \\rightarrow\n",
    "  M = U \\sqrt{S}, M^\\dagger = \\sqrt{S} U^\\dagger.\n",
    "$$\n",
    "Note that because $W$ is Hermitian, on has $V=U$.\n",
    "\n",
    "$$ \\large\n",
    "  T_{ijkl} = \\sum_\\alpha\n",
    "  M_{\\alpha, i} M_{\\alpha, j} M_{\\alpha, k} M_{\\alpha, l}\n",
    "$$\n",
    "\n",
    "$$ \\large\n",
    "  T_c = \\frac{2}{\\log(1+\\sqrt{2})} \\approx 2.269.\n",
    "$$"
   ]
  },
  {
   "cell_type": "markdown",
   "id": "f57ebf18-05be-4f2e-b59f-4981ec25b58a",
   "metadata": {},
   "source": [
    "## Transfer Matrix\n",
    "\n",
    "* TM$[(L_x, L_y)]$ = Transfer Matrix of $L_x$ columns, each column has $L_y$ sites. \n",
    "* $\\lambda_i(L_x, L_y)$ = Eigenvalues of TM$[(L_x, L_y)]$.\n",
    "* $E_i(Lx, Ly) = -\\ln \\lambda_i(L_x, L_y)$.\n",
    "* $\\lambda_i(L_y, L_y)=\\lambda_i(1, L_y)^{L_x}$\n",
    "* $E_i(L_y, L_y) = L_x E_i(1, L_y)$\n",
    "\n",
    "Correlation length $\\xi$ for an infinite strip (in x-direction) of width $L_y$\n",
    "$$ \\large\n",
    "  \\xi(L_y)=\\frac{1}{E_1(1,L_y)-E_0(1,L_y)}.\n",
    "$$\n",
    "\n",
    "$$ \\large\n",
    "  \\frac{\\xi(L_y)}{L_y}\n",
    "  =\\frac{1}{[E_1(1,L_y)-E_0(1,L_y)]L_y}\n",
    "  =\\frac{L_x}{[E_1(L_x,L_y)-E_0(L_x,L_y)]L_y}.\n",
    "$$\n",
    "\n",
    "For $L_x = L_y$\n",
    "$$ \\large\n",
    "  \\frac{\\xi(L)}{L}\n",
    "  =\\frac{1}{E_1(L,L)-E_0(L,L)}.\n",
    "$$\n"
   ]
  },
  {
   "cell_type": "markdown",
   "id": "375a884f-f701-41e9-b12c-4fc02be2d588",
   "metadata": {},
   "source": [
    "TM' = $10^{24}$ * TM"
   ]
  },
  {
   "cell_type": "markdown",
   "id": "73836ad3-e338-4dcf-a0a6-daceb2a50505",
   "metadata": {},
   "source": [
    "## Cytnx cheat sheet\n",
    "\n",
    "* numpy <-> cytnx.tensor <-> cytnx.UniTensor"
   ]
  },
  {
   "cell_type": "code",
   "execution_count": 1,
   "id": "3e95057a-fe3c-4b3d-8bdd-f77f401205a6",
   "metadata": {},
   "outputs": [
    {
     "name": "stdout",
     "output_type": "stream",
     "text": [
      "np 1.23.2\n",
      "cytnx 0.7.7\n",
      "2.269185314213022\n"
     ]
    }
   ],
   "source": [
    "import numpy as np\n",
    "import matplotlib.pyplot as plt\n",
    "import cytnx\n",
    "print('np', np.__version__)\n",
    "print('cytnx', cytnx.__version__)\n",
    "Tc = 2./np.log(1.+np.sqrt(2))\n",
    "print(Tc)\n",
    "# def ut_print(ut):\n",
    "#     ut.print_diagram()\n",
    "#     print(ut.get_block().numpy())"
   ]
  },
  {
   "cell_type": "markdown",
   "id": "77a4ce12-40bc-446b-a47f-13a6a2c2ad19",
   "metadata": {
    "tags": []
   },
   "source": [
    "## Utilities"
   ]
  },
  {
   "cell_type": "markdown",
   "id": "969ccc1e-7980-49db-b020-344dd1c0d769",
   "metadata": {},
   "source": [
    "### $M$ matrix"
   ]
  },
  {
   "cell_type": "code",
   "execution_count": 2,
   "id": "ec72e778-f26c-423d-9ab9-dc91b3eaaa3f",
   "metadata": {},
   "outputs": [],
   "source": [
    "def M0_(T):\n",
    "    M0 = np.array([[+np.sqrt(np.cosh(1/T)), +np.sqrt(np.sinh(1/T))],\n",
    "                   [+np.sqrt(np.cosh(1/T)), -np.sqrt(np.sinh(1/T))]])\n",
    "    return M0"
   ]
  },
  {
   "cell_type": "code",
   "execution_count": 3,
   "id": "7f92ee85-f2b2-4707-be11-a423a32f4a96",
   "metadata": {},
   "outputs": [],
   "source": [
    "def M_(T,h):\n",
    "    W = np.array([[np.exp(1/T), np.exp(-1/T)],\n",
    "                  [np.exp(-1/T), np.exp(1/T)]])\n",
    "    W = cytnx.from_numpy(W)\n",
    "    # S, U, Vd = cytnx.linalg.Svd(W)\n",
    "    S, U, Vd = W.Svd()\n",
    "    M = U @ cytnx.linalg.Diag(S.Pow(0.5))\n",
    "    Md = cytnx.linalg.Diag(S.Pow(0.5)) @ Vd\n",
    "    M = cytnx.UniTensor(M, rowrank=1)\n",
    "    M.set_name('M')\n",
    "    Md = cytnx.UniTensor(Md, rowrank=1)\n",
    "    Md.set_name('M†')    \n",
    "    return M, Md"
   ]
  },
  {
   "cell_type": "markdown",
   "id": "9eb55ef9-161a-46c1-b6f0-53d8a060a1f3",
   "metadata": {},
   "source": [
    "### $\\delta$ tensor"
   ]
  },
  {
   "cell_type": "code",
   "execution_count": 4,
   "id": "5692051b-9db1-4701-a90f-8ee4002f4869",
   "metadata": {},
   "outputs": [],
   "source": [
    "def delta_():\n",
    "    delta = cytnx.zeros([2,2,2,2])\n",
    "    delta[0,0,0,0]= 1.0\n",
    "    delta[1,1,1,1]= 1.0\n",
    "    # delta = cytnx.UniTensor(delta, rowrank=2)\n",
    "    delta = cytnx.UniTensor(delta)    \n",
    "    delta.set_name('ẟ')\n",
    "    return delta"
   ]
  },
  {
   "cell_type": "markdown",
   "id": "4cf1e194-58b3-4243-81ef-6810bf511929",
   "metadata": {},
   "source": [
    "### $T$ tensor\n",
    "\n",
    "`Networks/T.net`\n",
    "\n",
    "````\n",
    "delta   : 100,101;102,103\n",
    "M0.d: 0;100\n",
    "M1.d: 1;101\n",
    "M2  : 102;2\n",
    "M3  : 103;3\n",
    "TOUT: 0,1;2,3\n",
    "ORDER:\n",
    "\n",
    "#                       0\n",
    "#                 ┌─────┘\n",
    "#                 │ ┏━━━╳━━━┓ \n",
    "#                 └─┨d MT0 d┠─┐\n",
    "#                   ┗━━━━━━━┛ │                                    0\n",
    "#                 ┌────100────┘                              ┌─────┘\n",
    "#                 │ ┏━━━╳━━━┓                                │ ┏━━━╳━━━━┓\n",
    "#    ┏━━━╳━━━┓    └─┨d      ┃      ┏━━━╳━━━┓                 └─┨d       ┃\n",
    "# 1──┨d MT1 d┠─101──┨d  ẟ  d┠──102─┨d  M2 d┠──2    =     1 ────┨d  T   d┠──── 2\n",
    "#    ┗━━━━━━━┛      ┃      d┠─┐    ┗━━━━━━━┛                   ┃       d┠─┐\n",
    "#                   ┗━━━━━━━┛ │                                ┗━━━━━━━━┛ │\n",
    "#                 ┌────103────┘                                    ┌──────┘              \n",
    "#                 │ ┏━━━╳━━━┓                                      3\n",
    "#                 └─┨d  M3 d┠─┐\n",
    "#                   ┗━━━━━━━┛ │\n",
    "#                       ┌─────┘\n",
    "#                       3\n",
    "\n",
    "````"
   ]
  },
  {
   "cell_type": "code",
   "execution_count": 5,
   "id": "9cf6c21d-98f7-47b7-9329-63e71c1cff6e",
   "metadata": {},
   "outputs": [],
   "source": [
    "def T_bare_(T, h):\n",
    "    ut_M, ut_Md = M_(T, h)\n",
    "    ut_delta = delta_()\n",
    "    Ising_net = cytnx.Network('Networks/T.net')\n",
    "    Ising_net.PutUniTensors(['delta', 'M0.d', 'M1.d', 'M2', 'M3'],\n",
    "                            [ut_delta, ut_Md, ut_Md, ut_M, ut_M])\n",
    "    T_bare = Ising_net.Launch(optimal=True)\n",
    "    T_bare.set_name('T_bare')\n",
    "    return T_bare"
   ]
  },
  {
   "cell_type": "markdown",
   "id": "fc686d20-dd8a-4c93-be7f-05a84b41d2ce",
   "metadata": {},
   "source": [
    "### ymerge\n",
    "\n",
    "`Networks/ymerge.net`\n",
    "\n",
    "\n",
    "````\n",
    "Tu: 0,1;3,-1\n",
    "Td: -1,2;4,5\n",
    "TOUT: 0,1,2;3,4,5\n",
    "ORDER:\n",
    "\n",
    "#           0\n",
    "#     ┌─────┘           \n",
    "#     │ ┏━━━╳━━┓                          0                            0\n",
    "#     └─┨      ┃                    ┌─────┘                      ┌─────┘\n",
    "#  1 ───┨  Tu  ┠───3                │ ┏━━━╳━━┓                   │ ┏━━━╳━━┓\n",
    "#       ┃      ┠─┐                  └─┨      ┃                   └─┨      ┃ \n",
    "#       ┗━━━━━━┛ │               1────┨      ┃                  ┌──┨      ┠─┐    \n",
    "#     ┌─── -1 ───┘       -->     2────┨ TOUT ┠────3     -->  1══╡  ┃ TOUT ┃ ╞═3\n",
    "#     │ ┏━━━╳━━┓                      ┃      ┠────4             └──┨      ┠─┘\n",
    "#     └─┨      ┃                      ┃      ┠─┐                   ┃      ┠─┐\n",
    "#  2────┨  Td  ┠────4                 ┗━━━━━━┛ │                   ┗━━━━━━┛ │\n",
    "#       ┃      ┠─┐                        ┌────┘                       ┌────┘\n",
    "#       ┗━━━━━━┛ │                        5                            5\n",
    "#           ┌────┘\n",
    "#           5\n",
    "\n",
    "````"
   ]
  },
  {
   "cell_type": "code",
   "execution_count": 6,
   "id": "4a61feab-1865-43c0-acf9-a893deacf302",
   "metadata": {},
   "outputs": [],
   "source": [
    "def ymerge(Tu, Td):\n",
    "    ymerge_net = cytnx.Network('Networks/ymerge.net')\n",
    "    ymerge_net.PutUniTensors(['Tu', 'Td'], [Tu, Td])\n",
    "    Tud = ymerge_net.Launch(optimal=True)\n",
    "    Tud.combineBonds([1,2])\n",
    "    Tud.combineBonds([3,4])\n",
    "    Tud.set_labels([0,1,2,3])\n",
    "    return Tud"
   ]
  },
  {
   "cell_type": "markdown",
   "id": "d273bbfd-510a-462e-99ec-d80f59e4d150",
   "metadata": {},
   "source": [
    "### xmerge\n",
    "\n",
    "`Networks/xmerge.net`\n",
    "\n",
    "````\n",
    "Tl: 0,2;-1,4\n",
    "Tr: 1,-1;3,5\n",
    "TOUT: 0,1,2;3,4,5\n",
    "ORDER:\n",
    "\n",
    "#                                                          0  1\n",
    "#                                                     ┌────┘  │\n",
    "#          0                 1                      ┌─│───────┘\n",
    "#    ┌─────┘           ┌─────┘                      │ │┏━━━━╳━━━┓\n",
    "#    │ ┏━━━╳━━┓        │ ┏━━━╳━━┓                   │ └┨        ┃\n",
    "#    └─┨      ┃        └─┨      ┃                   └──┨        ┃\n",
    "# 2 ───┨  Tl  ┠─── -1 ───┨  Tr  ┠──── 3    ──>    2 ───┨   TT   ┠──── 3\n",
    "#      ┃      ┠─┐        ┃      ┠─┐                    ┃        ┠──┐\n",
    "#      ┗━━━━━━┛ │        ┗━━━━━━┛ │                    ┃        ┠┐ │\n",
    "#          ┌────┘            ┌────┘                    ┗━━━━━━━━┛│ │\n",
    "#          4                 5                            ┌──────│─┘\n",
    "#                                                         │  ┌───┘\n",
    "#                                                         4  5\n",
    "\n",
    "````"
   ]
  },
  {
   "cell_type": "code",
   "execution_count": 7,
   "id": "c894bcd4-9f28-420d-9113-c7a0d812a599",
   "metadata": {},
   "outputs": [],
   "source": [
    "def xmerge(Tl, Tr):\n",
    "    xmerge_net = cytnx.Network('Networks/xmerge.net')\n",
    "    xmerge_net.PutUniTensors(['Tl', 'Tr'], [Tl, Tr])\n",
    "    Tlr = xmerge_net.Launch(optimal=True)\n",
    "    Tlr.combineBonds([0,1])\n",
    "    Tlr.combineBonds([4,5])\n",
    "    return Tlr"
   ]
  },
  {
   "cell_type": "markdown",
   "id": "e737dba8-062f-488f-aeba-7867881f84eb",
   "metadata": {},
   "source": [
    "### T matrix to TM=Transfer Matrix\n",
    "\n",
    "`Networks/trace_y.net`\n",
    "\n",
    "````\n",
    "T: -2,1;3,-1\n",
    "Id: -1;-2\n",
    "TOUT: 1;3\n",
    "ORDER:\n",
    "\n",
    "#          -2\n",
    "#     ┌─────┘           \n",
    "#     │ ┏━━━╳━━┓                          \n",
    "#     └─┨      ┃                    \n",
    "#  1 ───┨  T   ┠───3                  ┏━━━╳━━┓\n",
    "#       ┃      ┠─┐                    ┃      ┃\n",
    "#       ┗━━━━━━┛ │               1────┨      ┃\n",
    "#     ┌─── -1 ───┘       -->          ┃  TM  ┠────3\n",
    "#     │ ┏━━━╳━━┓                      ┃      ┃\n",
    "#     └─┨      ┃                      ┃      ┃\n",
    "#       ┃  Id  ┃                      ┗━━━━━━┛ \n",
    "#       ┃      ┠─┐                        \n",
    "#       ┗━━━━━━┛ │                        \n",
    "#           ┌────┘\n",
    "#          -2\n",
    "\n",
    "````\n"
   ]
  },
  {
   "cell_type": "code",
   "execution_count": 8,
   "id": "1b9a0edb-911e-4389-82d8-c4af698e7f49",
   "metadata": {},
   "outputs": [],
   "source": [
    "def T_to_TM(T):\n",
    "    trace_net = cytnx.Network('Networks/trace_y.net')\n",
    "    dim = T.shape()[0]\n",
    "    trace_net.PutUniTensors(['T', 'Id'], [T, cytnx.UniTensor(cytnx.eye(dim), rowrank=1)])\n",
    "    TM = trace_net.Launch(optimal=True)\n",
    "    TM = TM.get_block()\n",
    "    return TM"
   ]
  },
  {
   "cell_type": "markdown",
   "id": "bd1688b5-69a5-4f11-934c-cd7890b1e762",
   "metadata": {},
   "source": [
    "## Merge\n",
    "\n",
    "Linear growth in y-direction:\n",
    "* T[(1, Ly)], T[(1, 1)] -->ymerge--> T[(1, Ly+1)] \n",
    "\n",
    "Power law growth in both directionx:\n",
    "* T[(1, 1)], T[(1, 1)] -->ymerge--> T[(1, 2)]\n",
    "* T[(1, 2)], T[(1, 2)] -->xmerge--> T[(2, 2)]\n",
    "* T[(2, 2)], T[(2, 2)] -->ymerge--> T[(2, 4)]\n",
    "* T[(2, 4)], T[(2, 4)] -->xmerge--> T[(4, 4)]"
   ]
  },
  {
   "cell_type": "markdown",
   "id": "b6ccfb04-c2aa-4415-9f9a-aaff5150dc57",
   "metadata": {
    "tags": []
   },
   "source": [
    "## Single temperature, various sizes (power law growth)"
   ]
  },
  {
   "cell_type": "code",
   "execution_count": 9,
   "id": "23b436ff-09ee-4fc4-a343-1c3936b8875c",
   "metadata": {},
   "outputs": [],
   "source": [
    "T = {}\n",
    "TM = {}\n",
    "λ = {}\n",
    "E = {}\n",
    "temp = 1.0\n",
    "h = 0.0"
   ]
  },
  {
   "cell_type": "markdown",
   "id": "912acbe9-ec2b-49ba-8e76-be1197283e95",
   "metadata": {},
   "source": [
    "### T[(1,1)]"
   ]
  },
  {
   "cell_type": "code",
   "execution_count": 10,
   "id": "0ad4db9a-16b0-403d-b34d-485e5e3f9556",
   "metadata": {},
   "outputs": [
    {
     "name": "stdout",
     "output_type": "stream",
     "text": [
      "-----------------------\n",
      "tensor Name : T[(1,1)]\n",
      "tensor Rank : 4\n",
      "block_form  : false\n",
      "is_diag     : False\n",
      "on device   : cytnx device: CPU\n",
      "            -------------      \n",
      "           /             \\     \n",
      "     0 ____| 2         2 |____ 2  \n",
      "           |             |     \n",
      "     1 ____| 2         2 |____ 3  \n",
      "           \\             /     \n",
      "            -------------      \n"
     ]
    }
   ],
   "source": [
    "##### T[(1,1)]\n",
    "T[(1,1)] = T_bare_(temp, h)\n",
    "\n",
    "T[(1,1)].set_name('T[(1,1)]')\n",
    "T[(1,1)].print_diagram()"
   ]
  },
  {
   "cell_type": "markdown",
   "id": "ec542bba-3fd3-4ba6-859f-b82dfc84a66a",
   "metadata": {},
   "source": [
    "### T[(1,2)]"
   ]
  },
  {
   "cell_type": "markdown",
   "id": "8ae1f45e-459f-4b9a-8260-f9b22769d02e",
   "metadata": {},
   "source": [
    "#### Use network file to trace"
   ]
  },
  {
   "cell_type": "code",
   "execution_count": 11,
   "id": "998fa2cb-dc6d-4bc4-8d2b-0926408f18d9",
   "metadata": {},
   "outputs": [
    {
     "name": "stdout",
     "output_type": "stream",
     "text": [
      "E[(1,2)]/1/2= [-2.00973273 -1.99075728  0.00924272  0.02821817]\n",
      "-----------------------\n",
      "tensor Name : T[(1,2)]\n",
      "tensor Rank : 4\n",
      "block_form  : false\n",
      "is_diag     : False\n",
      "on device   : cytnx device: CPU\n",
      "            -------------      \n",
      "           /             \\     \n",
      "     0 ____| 2         4 |____ 2  \n",
      "           |             |     \n",
      "     1 ____| 4         2 |____ 3  \n",
      "           \\             /     \n",
      "            -------------      \n"
     ]
    }
   ],
   "source": [
    "##### T[(1,2)]\n",
    "T[(1,2)] = ymerge(T[(1,1)], T[(1,1)])\n",
    "TM[(1,2)] = T_to_TM(T[(1,2)])\n",
    "λ[(1,2)], _ = cytnx.linalg.Eigh(TM[(1,2)])\n",
    "λ[(1,2)] = λ[(1,2)].numpy()[::-1]\n",
    "E[(1,2)] = -np.log(λ[(1,2)])\n",
    "print('E[(1,2)]/1/2=', E[(1,2)][:4]/1/2)\n",
    "\n",
    "T[(1,2)].set_name('T[(1,2)]')\n",
    "T[(1,2)].print_diagram()"
   ]
  },
  {
   "cell_type": "markdown",
   "id": "5c45c900-0c8a-4956-b6bf-53fcd31b4295",
   "metadata": {},
   "source": [
    "#### Use UniTensor.Trace(), by id"
   ]
  },
  {
   "cell_type": "code",
   "execution_count": 12,
   "id": "b1fa6b46-0108-44a4-9a7e-0dfa2f5da1ed",
   "metadata": {},
   "outputs": [
    {
     "name": "stdout",
     "output_type": "stream",
     "text": [
      "E[(1,2)]/1/2= [-2.00973273 -1.99075728  0.00924272  0.02821817]\n",
      "-----------------------\n",
      "tensor Name : T[(1,2)]\n",
      "tensor Rank : 4\n",
      "block_form  : false\n",
      "is_diag     : False\n",
      "on device   : cytnx device: CPU\n",
      "            -------------      \n",
      "           /             \\     \n",
      "     0 ____| 2         4 |____ 2  \n",
      "           |             |     \n",
      "     1 ____| 4         2 |____ 3  \n",
      "           \\             /     \n",
      "            -------------      \n"
     ]
    }
   ],
   "source": [
    "##### T[(1,2)]\n",
    "T[(1,2)] = ymerge(T[(1,1)], T[(1,1)])\n",
    "# TM[(1,2)] = T_to_TM(T[(1,2)])\n",
    "TM[(1,2)] = T[(1,2)].Trace(0,3).get_block()\n",
    "λ[(1,2)], _ = cytnx.linalg.Eigh(TM[(1,2)])\n",
    "λ[(1,2)] = λ[(1,2)].numpy()[::-1]\n",
    "E[(1,2)] = -np.log(λ[(1,2)])\n",
    "print('E[(1,2)]/1/2=', E[(1,2)][:4]/1/2)\n",
    "\n",
    "T[(1,2)].set_name('T[(1,2)]')\n",
    "T[(1,2)].print_diagram()"
   ]
  },
  {
   "cell_type": "markdown",
   "id": "747e79c2-f5cb-44a9-8fd0-324eaf1fc545",
   "metadata": {},
   "source": [
    "#### Use UniTensor.Trace(), by label"
   ]
  },
  {
   "cell_type": "code",
   "execution_count": 13,
   "id": "f8c1a5ab-03c0-4216-abd8-f38357591824",
   "metadata": {},
   "outputs": [
    {
     "name": "stdout",
     "output_type": "stream",
     "text": [
      "E[(1,2)]/1/2= [-2.00973273 -1.99075728  0.00924272  0.02821817]\n",
      "-----------------------\n",
      "tensor Name : T[(1,2)]\n",
      "tensor Rank : 4\n",
      "block_form  : false\n",
      "is_diag     : False\n",
      "on device   : cytnx device: CPU\n",
      "            -------------      \n",
      "           /             \\     \n",
      "     0 ____| 2         4 |____ 2  \n",
      "           |             |     \n",
      "     1 ____| 4         2 |____ 3  \n",
      "           \\             /     \n",
      "            -------------      \n"
     ]
    }
   ],
   "source": [
    "##### T[(1,2)]\n",
    "T[(1,2)] = ymerge(T[(1,1)], T[(1,1)])\n",
    "# TM[(1,2)] = T_to_TM(T[(1,2)])\n",
    "TM[(1,2)] = T[(1,2)].Trace(0, 3, by_label=True).get_block()\n",
    "λ[(1,2)], _ = cytnx.linalg.Eigh(TM[(1,2)])\n",
    "λ[(1,2)] = λ[(1,2)].numpy()[::-1]\n",
    "E[(1,2)] = -np.log(λ[(1,2)])\n",
    "print('E[(1,2)]/1/2=', E[(1,2)][:4]/1/2)\n",
    "\n",
    "T[(1,2)].set_name('T[(1,2)]')\n",
    "T[(1,2)].print_diagram()"
   ]
  },
  {
   "cell_type": "markdown",
   "id": "1d46a8a2-a04e-431c-963a-347a5f00ec5a",
   "metadata": {},
   "source": [
    "### T[(2,2)]"
   ]
  },
  {
   "cell_type": "code",
   "execution_count": 14,
   "id": "713aa30e-092c-4c51-bcbb-443c02cd29ac",
   "metadata": {},
   "outputs": [
    {
     "name": "stdout",
     "output_type": "stream",
     "text": [
      "E[(2,2)]/2/2= [-2.00973273 -1.99075728  0.00924272  0.02821817]\n",
      "-----------------------\n",
      "tensor Name : T[(2,2)]\n",
      "tensor Rank : 4\n",
      "block_form  : false\n",
      "is_diag     : False\n",
      "on device   : cytnx device: CPU\n",
      "            -------------      \n",
      "           /             \\     \n",
      "     0 ____| 4         4 |____ 3  \n",
      "           |             |     \n",
      "     2 ____| 4         4 |____ 4  \n",
      "           \\             /     \n",
      "            -------------      \n"
     ]
    }
   ],
   "source": [
    "##### T[(2,2)]\n",
    "T[(2,2)] = xmerge(T[(1,2)], T[(1,2)])\n",
    "TM[(2,2)] = T_to_TM(T[(2,2)])\n",
    "λ[(2,2)], _ = cytnx.linalg.Eigh(TM[(2,2)])\n",
    "λ[(2,2)] = λ[(2,2)].numpy()[::-1]\n",
    "E[(2,2)] = -np.log(λ[(2,2)])\n",
    "print('E[(2,2)]/2/2=', E[(2,2)][:4]/2/2)\n",
    "\n",
    "T[(2,2)].set_name('T[(2,2)]')\n",
    "T[(2,2)].print_diagram()"
   ]
  },
  {
   "cell_type": "markdown",
   "id": "95b92f24-5616-4f5e-bdac-2ccbb07caab0",
   "metadata": {},
   "source": [
    "### Use permute"
   ]
  },
  {
   "cell_type": "code",
   "execution_count": 15,
   "id": "b5b27387-76f0-4eee-879b-dd35b2297b05",
   "metadata": {},
   "outputs": [
    {
     "name": "stdout",
     "output_type": "stream",
     "text": [
      "-----------------------\n",
      "tensor Name : T[(1,2)]\n",
      "tensor Rank : 4\n",
      "block_form  : false\n",
      "is_diag     : False\n",
      "on device   : cytnx device: CPU\n",
      "            -------------      \n",
      "           /             \\     \n",
      "     0 ____| 2         4 |____ 2  \n",
      "           |             |     \n",
      "     1 ____| 4         2 |____ 3  \n",
      "           \\             /     \n",
      "            -------------      \n",
      "-----------------------\n",
      "tensor Name : T[(1,2)]\n",
      "tensor Rank : 4\n",
      "block_form  : false\n",
      "is_diag     : False\n",
      "on device   : cytnx device: CPU\n",
      "            -------------      \n",
      "           /             \\     \n",
      "     1 ____| 4         2 |____ 3  \n",
      "           |             |     \n",
      "     0 ____| 2         4 |____ 2  \n",
      "           \\             /     \n",
      "            -------------      \n"
     ]
    }
   ],
   "source": [
    "T[(1,2)].print_diagram()\n",
    "T[(1,2)].permute_([1,0,3,2])\n",
    "T[(1,2)].print_diagram()"
   ]
  },
  {
   "cell_type": "code",
   "execution_count": 16,
   "id": "25d3d094-fad0-4cc4-ac6a-77234e6b79fe",
   "metadata": {},
   "outputs": [
    {
     "name": "stdout",
     "output_type": "stream",
     "text": [
      "-----------------------\n",
      "tensor Name : \n",
      "tensor Rank : 4\n",
      "block_form  : false\n",
      "is_diag     : False\n",
      "on device   : cytnx device: CPU\n",
      "            -------------      \n",
      "           /             \\     \n",
      "     0 ____| 4         4 |____ 2  \n",
      "           |             |     \n",
      "     1 ____| 4         4 |____ 3  \n",
      "           \\             /     \n",
      "            -------------      \n",
      "-----------------------\n",
      "tensor Name : \n",
      "tensor Rank : 4\n",
      "block_form  : false\n",
      "is_diag     : False\n",
      "on device   : cytnx device: CPU\n",
      "            -------------      \n",
      "           /             \\     \n",
      "     1 ____| 4         4 |____ 3  \n",
      "           |             |     \n",
      "     0 ____| 4         4 |____ 2  \n",
      "           \\             /     \n",
      "            -------------      \n"
     ]
    }
   ],
   "source": [
    "T[(2,2)] = ymerge(T[(1,2)], T[(1,2)])\n",
    "T[(2,2)].print_diagram()\n",
    "T[(2,2)].permute_([1,0,3,2])\n",
    "T[(2,2)].print_diagram()"
   ]
  },
  {
   "cell_type": "code",
   "execution_count": 17,
   "id": "ad8fad61-61d8-44fb-8ed1-4c1589cdf19f",
   "metadata": {},
   "outputs": [
    {
     "name": "stdout",
     "output_type": "stream",
     "text": [
      "E[(2,2)]/2/2= [-2.00973273 -1.99075728  0.00924272  0.02821817]\n",
      "-----------------------\n",
      "tensor Name : T[(2,2)]\n",
      "tensor Rank : 4\n",
      "block_form  : false\n",
      "is_diag     : False\n",
      "on device   : cytnx device: CPU\n",
      "            -------------      \n",
      "           /             \\     \n",
      "     1 ____| 4         4 |____ 3  \n",
      "           |             |     \n",
      "     0 ____| 4         4 |____ 2  \n",
      "           \\             /     \n",
      "            -------------      \n"
     ]
    }
   ],
   "source": [
    "TM[(2,2)] = T_to_TM(T[(2,2)])\n",
    "λ[(2,2)], _ = cytnx.linalg.Eigh(TM[(2,2)])\n",
    "λ[(2,2)] = λ[(2,2)].numpy()[::-1]\n",
    "E[(2,2)] = -np.log(λ[(2,2)])\n",
    "print('E[(2,2)]/2/2=', E[(2,2)][:4]/2/2)\n",
    "\n",
    "T[(2,2)].set_name('T[(2,2)]')\n",
    "T[(2,2)].print_diagram()"
   ]
  },
  {
   "cell_type": "markdown",
   "id": "dda6d41b-c8f1-4139-9039-7ede0040a417",
   "metadata": {},
   "source": [
    "### T[(2,4)]"
   ]
  },
  {
   "cell_type": "code",
   "execution_count": 18,
   "id": "7bd30133-bfcc-44e3-904e-9d0a30ca4710",
   "metadata": {},
   "outputs": [
    {
     "name": "stdout",
     "output_type": "stream",
     "text": [
      "E[(2,4)]/2/4= [-2.0004515  -2.000245   -1.08572752 -1.05884264]\n",
      "-----------------------\n",
      "tensor Name : T[(2,4)]\n",
      "tensor Rank : 4\n",
      "block_form  : false\n",
      "is_diag     : False\n",
      "on device   : cytnx device: CPU\n",
      "            -------------      \n",
      "           /             \\     \n",
      "     0 ____| 4        16 |____ 2  \n",
      "           |             |     \n",
      "     1 ____| 16        4 |____ 3  \n",
      "           \\             /     \n",
      "            -------------      \n"
     ]
    }
   ],
   "source": [
    "##### T[(2,4)]\n",
    "T[(2,4)] = ymerge(T[(2,2)], T[(2,2)])\n",
    "TM[(2,4)] = T_to_TM(T[(2,4)])\n",
    "λ[(2,4)], _ = cytnx.linalg.Eigh(TM[(2,4)])\n",
    "λ[(2,4)] = λ[(2,4)].numpy()[::-1]\n",
    "E[(2,4)] = -np.log(λ[(2,4)])\n",
    "print('E[(2,4)]/2/4=', E[(2,4)][:4]/2/4)\n",
    "\n",
    "T[(2,4)].set_name('T[(2,4)]')\n",
    "T[(2,4)].print_diagram()"
   ]
  },
  {
   "cell_type": "markdown",
   "id": "507f8b29-c885-458a-8260-7ea9db446fa2",
   "metadata": {},
   "source": [
    "### T[(4,4)]"
   ]
  },
  {
   "cell_type": "code",
   "execution_count": 19,
   "id": "0be588a0-3ae8-46c6-9455-8a69eb959ebc",
   "metadata": {},
   "outputs": [
    {
     "name": "stdout",
     "output_type": "stream",
     "text": [
      "E[(4,4)]/4/4= [-2.0004515  -2.000245   -1.08572752 -1.05884264]\n",
      "-----------------------\n",
      "tensor Name : T[(4,4)]\n",
      "tensor Rank : 4\n",
      "block_form  : false\n",
      "is_diag     : False\n",
      "on device   : cytnx device: CPU\n",
      "            -------------      \n",
      "           /             \\     \n",
      "     0 ____| 16       16 |____ 3  \n",
      "           |             |     \n",
      "     2 ____| 16       16 |____ 4  \n",
      "           \\             /     \n",
      "            -------------      \n"
     ]
    }
   ],
   "source": [
    "##### T[(4,4)]\n",
    "T[(4,4)] = xmerge(T[(2,4)], T[(2,4)])\n",
    "TM[(4,4)] = T_to_TM(T[(4,4)])\n",
    "λ[(4,4)], _ = cytnx.linalg.Eigh(TM[(4,4)])\n",
    "λ[(4,4)] = λ[(4,4)].numpy()[::-1]\n",
    "E[(4,4)] = -np.log(λ[(4,4)])\n",
    "print('E[(4,4)]/4/4=', E[(4,4)][:4]/4/4)\n",
    "\n",
    "T[(4,4)].set_name('T[(4,4)]')\n",
    "T[(4,4)].print_diagram()"
   ]
  },
  {
   "cell_type": "code",
   "execution_count": 20,
   "id": "807fb3e9-60a1-4c2b-9d8c-cba9395791f2",
   "metadata": {},
   "outputs": [
    {
     "name": "stdout",
     "output_type": "stream",
     "text": [
      "-----------------------\n",
      "tensor Name : T[(2,4)]\n",
      "tensor Rank : 4\n",
      "block_form  : false\n",
      "is_diag     : False\n",
      "on device   : cytnx device: CPU\n",
      "            -------------      \n",
      "           /             \\     \n",
      "     0 ____| 4        16 |____ 2  \n",
      "           |             |     \n",
      "     1 ____| 16        4 |____ 3  \n",
      "           \\             /     \n",
      "            -------------      \n",
      "-----------------------\n",
      "tensor Name : T[(2,4)]\n",
      "tensor Rank : 4\n",
      "block_form  : false\n",
      "is_diag     : False\n",
      "on device   : cytnx device: CPU\n",
      "            -------------      \n",
      "           /             \\     \n",
      "     1 ____| 16        4 |____ 3  \n",
      "           |             |     \n",
      "     0 ____| 4        16 |____ 2  \n",
      "           \\             /     \n",
      "            -------------      \n"
     ]
    }
   ],
   "source": [
    "T[(2,4)].print_diagram()\n",
    "T[(2,4)].permute_([1,0,3,2])\n",
    "T[(2,4)].print_diagram()"
   ]
  },
  {
   "cell_type": "code",
   "execution_count": 21,
   "id": "9eed3e7e-4f8a-43a2-a2df-a6bdf62a89f1",
   "metadata": {},
   "outputs": [
    {
     "name": "stdout",
     "output_type": "stream",
     "text": [
      "-----------------------\n",
      "tensor Name : \n",
      "tensor Rank : 4\n",
      "block_form  : false\n",
      "is_diag     : False\n",
      "on device   : cytnx device: CPU\n",
      "            -------------      \n",
      "           /             \\     \n",
      "     0 ____| 16       16 |____ 2  \n",
      "           |             |     \n",
      "     1 ____| 16       16 |____ 3  \n",
      "           \\             /     \n",
      "            -------------      \n",
      "-----------------------\n",
      "tensor Name : \n",
      "tensor Rank : 4\n",
      "block_form  : false\n",
      "is_diag     : False\n",
      "on device   : cytnx device: CPU\n",
      "            -------------      \n",
      "           /             \\     \n",
      "     1 ____| 16       16 |____ 3  \n",
      "           |             |     \n",
      "     0 ____| 16       16 |____ 2  \n",
      "           \\             /     \n",
      "            -------------      \n"
     ]
    }
   ],
   "source": [
    "T[(4,4)] = ymerge(T[(2,4)], T[(2,4)])\n",
    "T[(4,4)].print_diagram()\n",
    "T[(4,4)].permute_([1,0,3,2])\n",
    "T[(4,4)].print_diagram()"
   ]
  },
  {
   "cell_type": "code",
   "execution_count": 22,
   "id": "501095f0-10d3-49da-a497-4e5f12a64c42",
   "metadata": {},
   "outputs": [
    {
     "name": "stdout",
     "output_type": "stream",
     "text": [
      "E[(4,4)]/4/4= [-2.0004515  -2.000245   -1.08572752 -1.05884264]\n",
      "-----------------------\n",
      "tensor Name : T[(4,4)]\n",
      "tensor Rank : 4\n",
      "block_form  : false\n",
      "is_diag     : False\n",
      "on device   : cytnx device: CPU\n",
      "            -------------      \n",
      "           /             \\     \n",
      "     1 ____| 16       16 |____ 3  \n",
      "           |             |     \n",
      "     0 ____| 16       16 |____ 2  \n",
      "           \\             /     \n",
      "            -------------      \n"
     ]
    }
   ],
   "source": [
    "TM[(4,4)] = T_to_TM(T[(4,4)])\n",
    "λ[(4,4)], _ = cytnx.linalg.Eigh(TM[(4,4)])\n",
    "λ[(4,4)] = λ[(4,4)].numpy()[::-1]\n",
    "E[(4,4)] = -np.log(λ[(4,4)])\n",
    "print('E[(4,4)]/4/4=', E[(4,4)][:4]/4/4)\n",
    "\n",
    "T[(4,4)].set_name('T[(4,4)]')\n",
    "T[(4,4)].print_diagram()"
   ]
  },
  {
   "cell_type": "markdown",
   "id": "8c290f0a-98d8-4223-842b-275e31631c21",
   "metadata": {},
   "source": [
    "## Approximation"
   ]
  },
  {
   "cell_type": "markdown",
   "id": "2acdea3a-54ec-49ef-acbf-b579e4076043",
   "metadata": {},
   "source": [
    "### T[(2,2)], T[(2,2)] --> y-merger --> T[(2,4)]\n",
    "* T[(2,4)].shape = (4,16,16,4) => Cut => (4,10,10,4)"
   ]
  },
  {
   "cell_type": "markdown",
   "id": "7abb55f7-6426-4e3f-9e94-953dc6bde582",
   "metadata": {},
   "source": [
    "### Method-1"
   ]
  },
  {
   "cell_type": "markdown",
   "id": "abd8b9cb-40ad-422b-97f5-7edf1ec581e0",
   "metadata": {},
   "source": [
    "* Construct $\\theta$\n",
    "* SVD+Truncate on $\\theta$"
   ]
  },
  {
   "cell_type": "markdown",
   "id": "11a08613-6e09-4389-b42b-34a544c53a6f",
   "metadata": {},
   "source": [
    "### $\\theta$ theta\n",
    "\n",
    "`theta_y.net`\n",
    "\n",
    "````\n",
    "Tu  : 101,0;102,103\n",
    "Td  : 103,1;105,106\n",
    "Tu.d: 102,104;101,2\n",
    "Td.d: 105,106;104,3\n",
    "\n",
    "TOUT: 0,1;2,3\n",
    "ORDER:\n",
    "\n",
    "#           ┌──────101───────┐\n",
    "#           │                │\n",
    "#     ┌─────┘                └────┐      \n",
    "#     │ ┏━━━╳━━┓         ┏━━━╳━━┓ │\n",
    "#     └─┨      ┃         ┃      ┠─┘\n",
    "#  0 ───┨  Tu  ┠───102───┨ Tu.d ┠───2\n",
    "#       ┃      ┠─┐     ┌─┨      ┃                    ┏━━━╳━━┓ \n",
    "#       ┗━━━━━━┛ │     │ ┗━━━━━━┛               0 ───┨      ┠─── 2\n",
    "#     ┌────103───┘     └────104───┐      -->         ┃ TOUT ┃\n",
    "#     │ ┏━━━╳━━┓         ┏━━━╳━━┓ │             1 ───┨      ┠─── 3 \n",
    "#     └─┨      ┃         ┃      ┠─┘                  ┗━━━━━━┛\n",
    "#  1────┨  Td  ┠───105───┨ Td.d ┠────3\n",
    "#       ┃      ┠─┐     ┌─┨      ┃\n",
    "#       ┗━━━━━━┛ │     │ ┗━━━━━━┛\n",
    "#           ┌────┘     └─────┐      \n",
    "#           │                │\n",
    "#           └──────106───────┘\n",
    "````"
   ]
  },
  {
   "cell_type": "code",
   "execution_count": 23,
   "id": "5fac7bcc-4c7b-4c31-97eb-6d94d01bc964",
   "metadata": {},
   "outputs": [
    {
     "name": "stdout",
     "output_type": "stream",
     "text": [
      "-----------------------\n",
      "tensor Name : Θ\n",
      "tensor Rank : 4\n",
      "block_form  : false\n",
      "is_diag     : False\n",
      "on device   : cytnx device: CPU\n",
      "            -------------      \n",
      "           /             \\     \n",
      "     0 ____| 4         4 |____ 2  \n",
      "           |             |     \n",
      "     1 ____| 4         4 |____ 3  \n",
      "           \\             /     \n",
      "            -------------      \n"
     ]
    }
   ],
   "source": [
    "Θ_net = cytnx.Network('Networks/theta_y.net')\n",
    "Θ_net.PutUniTensors(['Tu', 'Td', 'Tu.d', 'Td.d'], [T[(2,2)], T[(2,2)], T[(2,2)].Dagger(), T[(2,2)].Dagger()])\n",
    "Θ = Θ_net.Launch(optimal=True)\n",
    "Θ.set_name('Θ')\n",
    "Θ.print_diagram()"
   ]
  },
  {
   "cell_type": "code",
   "execution_count": 24,
   "id": "1841f548-0ad1-44b8-b97f-cd158a5fd527",
   "metadata": {},
   "outputs": [
    {
     "name": "stdout",
     "output_type": "stream",
     "text": [
      "[10, 16, 16]\n",
      "10\n",
      "-----------------------\n",
      "tensor Name : U\n",
      "tensor Rank : 3\n",
      "block_form  : false\n",
      "is_diag     : False\n",
      "on device   : cytnx device: CPU\n",
      "            -------------      \n",
      "           /             \\     \n",
      "     0 ____| 4        10 |____ -1 \n",
      "           |             |     \n",
      "     1 ____| 4           |        \n",
      "           \\             /     \n",
      "            -------------      \n",
      "-------- start of print ---------\n",
      "Tensor name: S_Θ\n",
      "Tensor name: S_Θ\n",
      "is_diag    : True\n",
      "contiguous : True\n",
      "\n",
      "Total elem: 10\n",
      "type  : Double (Float64)\n",
      "cytnx device: CPU\n",
      "Shape : (10)\n",
      "[7.95001e+13 7.94234e+13 8.15900e+10 8.15114e+10 4.92332e+10 4.91857e+10 1.60773e+10 1.60618e+10 5.05275e+07 5.04788e+07 ]\n",
      "\n",
      "\n",
      "\n",
      "\n"
     ]
    }
   ],
   "source": [
    "dcut = 10\n",
    "print([dcut, np.prod(Θ.shape()[:2]), np.prod(Θ.shape()[2:])])\n",
    "dc = np.min([dcut, np.prod(Θ.shape()[:2]), np.prod(Θ.shape()[2:])])\n",
    "print(dc)\n",
    "S, U, _ = cytnx.linalg.Svd_truncate(Θ, keepdim=dc)\n",
    "U.set_name('U')\n",
    "U.print_diagram()\n",
    "S.set_name('S_Θ')\n",
    "print(S)"
   ]
  },
  {
   "cell_type": "markdown",
   "id": "d8111820-fa41-4499-95f5-577683bc49d0",
   "metadata": {
    "tags": []
   },
   "source": [
    "### T[(2,2)], T[(2,2)] --> y-merger + truncation --> T[(2,4,dc)]\n",
    "\n",
    "`Networks/RG_y.net`\n",
    "\n",
    "````\n",
    "Tu: 0,101;103,-1\n",
    "Td: -1,102;104,3\n",
    "UT: 1; 101,102\n",
    "U : 103,104; 2\n",
    "TOUT: 0,1;2,3\n",
    "ORDER:\n",
    "\n",
    "\n",
    "#                          0\n",
    "#                    ┌─────┘           \n",
    "#                    │ ┏━━━╳━━┓                                    \n",
    "#        ┏━━╳━━┓     └─┨      ┃         ┏━━╳━━┓                       0\n",
    "#        ┃     ┠──101──┨  Tu  ┠───103───┨     ┃                 ┌─────┘\n",
    "#        ┃     ┃       ┃      ┠─┐       ┃     ┃                 │ ┏━━━╳━━┓\n",
    "#        ┃     ┃       ┗━━━━━━┛ │       ┃     ┃                 └─┨      ┃\n",
    "#     1──┨ UT  ┃     ┌─── -1 ───┘       ┃  U  ┠──2    -->    1────┨ TOUT ┠────2\n",
    "#        ┃     ┃     │ ┏━━━╳━━┓         ┃     ┃                   ┃      ┠─┐\n",
    "#        ┃     ┃     └─┨      ┃         ┃     ┃                   ┗━━━━━━┛ │\n",
    "#        ┃     ┠──102──┨  Td  ┠───104───┨     ┃                       ┌────┘\n",
    "#        ┗━━━━━┛       ┃      ┠─┐       ┗━━━━━┛                       3\n",
    "#                      ┗━━━━━━┛ │                                  \n",
    "#                          ┌────┘\n",
    "#                          3\n",
    "\n",
    "\n",
    "````\n"
   ]
  },
  {
   "cell_type": "code",
   "execution_count": 25,
   "id": "f2cc3072-61fc-4a05-938c-9389b9d524d5",
   "metadata": {},
   "outputs": [
    {
     "name": "stdout",
     "output_type": "stream",
     "text": [
      "-----------------------\n",
      "tensor Name : T[(2,4,D=10)]\n",
      "tensor Rank : 4\n",
      "block_form  : false\n",
      "is_diag     : False\n",
      "on device   : cytnx device: CPU\n",
      "            -------------      \n",
      "           /             \\     \n",
      "     0 ____| 4        10 |____ 2  \n",
      "           |             |     \n",
      "     1 ____| 10        4 |____ 3  \n",
      "           \\             /     \n",
      "            -------------      \n"
     ]
    }
   ],
   "source": [
    "RG_net = cytnx.Network('Networks/RG_y.net')\n",
    "RG_net.PutUniTensors(['Tu','Td','UT','U'],[T[(2,2)],T[(2,2)],U.Dagger(),U])\n",
    "T[(2,4,dc)] = RG_net.Launch(optimal=True)\n",
    "\n",
    "T[(2,4,dc)].set_name('T[(2,4,D={})]'.format(dc))\n",
    "T[(2,4,dc)].print_diagram()"
   ]
  },
  {
   "cell_type": "code",
   "execution_count": 26,
   "id": "d1cd7eab-00aa-4364-91eb-00e781677fac",
   "metadata": {},
   "outputs": [
    {
     "name": "stdout",
     "output_type": "stream",
     "text": [
      "-----------------------\n",
      "tensor Name : T[(2,4,D=10)]\n",
      "tensor Rank : 4\n",
      "block_form  : false\n",
      "is_diag     : False\n",
      "on device   : cytnx device: CPU\n",
      "            -------------      \n",
      "           /             \\     \n",
      "     1 ____| 10        4 |____ 3  \n",
      "           |             |     \n",
      "     0 ____| 4        10 |____ 2  \n",
      "           \\             /     \n",
      "            -------------      \n"
     ]
    }
   ],
   "source": [
    "T[(2,4,dc)].permute_([1,0,3,2])\n",
    "T[(2,4,dc)].print_diagram()"
   ]
  },
  {
   "cell_type": "code",
   "execution_count": 27,
   "id": "f45edeae-f3e9-49a3-932f-22ed84d79b26",
   "metadata": {},
   "outputs": [
    {
     "name": "stdout",
     "output_type": "stream",
     "text": [
      "-----------------------\n",
      "tensor Name : Θ\n",
      "tensor Rank : 4\n",
      "block_form  : false\n",
      "is_diag     : False\n",
      "on device   : cytnx device: CPU\n",
      "            -------------      \n",
      "           /             \\     \n",
      "     0 ____| 4         4 |____ 2  \n",
      "           |             |     \n",
      "     1 ____| 4         4 |____ 3  \n",
      "           \\             /     \n",
      "            -------------      \n"
     ]
    }
   ],
   "source": [
    "Θ_net = cytnx.Network('Networks/theta_y.net')\n",
    "Θ_net.PutUniTensors(['Tu', 'Td', 'Tu.d', 'Td.d'], [T[(2,4,dc)], T[(2,4,dc)], T[(2,4,dc)].Dagger(), T[(2,4,dc)].Dagger()])\n",
    "Θ = Θ_net.Launch(optimal=True)\n",
    "Θ.set_name('Θ')\n",
    "Θ.print_diagram()"
   ]
  },
  {
   "cell_type": "code",
   "execution_count": 28,
   "id": "1b591474-9b83-4f29-9837-bfed5f2708d2",
   "metadata": {},
   "outputs": [
    {
     "name": "stdout",
     "output_type": "stream",
     "text": [
      "[10, 16, 16]\n",
      "10\n",
      "-----------------------\n",
      "tensor Name : U\n",
      "tensor Rank : 3\n",
      "block_form  : false\n",
      "is_diag     : False\n",
      "on device   : cytnx device: CPU\n",
      "            -------------      \n",
      "           /             \\     \n",
      "     0 ____| 4        10 |____ -1 \n",
      "           |             |     \n",
      "     1 ____| 4           |        \n",
      "           \\             /     \n",
      "            -------------      \n",
      "-------- start of print ---------\n",
      "Tensor name: S_Θ\n",
      "Tensor name: S_Θ\n",
      "is_diag    : True\n",
      "contiguous : True\n",
      "\n",
      "Total elem: 10\n",
      "type  : Double (Float64)\n",
      "cytnx device: CPU\n",
      "Shape : (10)\n",
      "[6.31258e+27 6.30662e+27 2.54849e+24 2.54609e+24 2.02788e+24 2.02596e+24 1.98540e+21 1.98353e+21 8.18584e+20 8.17810e+20 ]\n",
      "\n",
      "\n",
      "\n",
      "\n"
     ]
    }
   ],
   "source": [
    "dcut = 10\n",
    "print([dcut, np.prod(Θ.shape()[:2]), np.prod(Θ.shape()[2:])])\n",
    "dc = np.min([dcut, np.prod(Θ.shape()[:2]), np.prod(Θ.shape()[2:])])\n",
    "print(dc)\n",
    "S, U, _ = cytnx.linalg.Svd_truncate(Θ, keepdim=dc)\n",
    "U.set_name('U')\n",
    "U.print_diagram()\n",
    "S.set_name('S_Θ')\n",
    "print(S)"
   ]
  },
  {
   "cell_type": "code",
   "execution_count": 29,
   "id": "ee161e5c-c13d-4a1a-8c75-24a5cbc2934a",
   "metadata": {},
   "outputs": [
    {
     "name": "stdout",
     "output_type": "stream",
     "text": [
      "-----------------------\n",
      "tensor Name : T[(2,4,D=10)]\n",
      "tensor Rank : 4\n",
      "block_form  : false\n",
      "is_diag     : False\n",
      "on device   : cytnx device: CPU\n",
      "            -------------      \n",
      "           /             \\     \n",
      "     1 ____| 10        4 |____ 3  \n",
      "           |             |     \n",
      "     0 ____| 4        10 |____ 2  \n",
      "           \\             /     \n",
      "            -------------      \n"
     ]
    }
   ],
   "source": [
    "T[((2,4,dc))].print_diagram()"
   ]
  },
  {
   "cell_type": "code",
   "execution_count": 30,
   "id": "c7e707ff-1958-4cb6-aa37-535a5605fa6b",
   "metadata": {},
   "outputs": [
    {
     "name": "stdout",
     "output_type": "stream",
     "text": [
      "-----------------------\n",
      "tensor Name : T[(4,4,D=10)]\n",
      "tensor Rank : 4\n",
      "block_form  : false\n",
      "is_diag     : False\n",
      "on device   : cytnx device: CPU\n",
      "            -------------      \n",
      "           /             \\     \n",
      "     0 ____| 10       10 |____ 2  \n",
      "           |             |     \n",
      "     1 ____| 10       10 |____ 3  \n",
      "           \\             /     \n",
      "            -------------      \n",
      "-----------------------\n",
      "tensor Name : T[(4,4,D=10)]\n",
      "tensor Rank : 4\n",
      "block_form  : false\n",
      "is_diag     : False\n",
      "on device   : cytnx device: CPU\n",
      "            -------------      \n",
      "           /             \\     \n",
      "     1 ____| 10       10 |____ 3  \n",
      "           |             |     \n",
      "     0 ____| 10       10 |____ 2  \n",
      "           \\             /     \n",
      "            -------------      \n"
     ]
    }
   ],
   "source": [
    "RG_net = cytnx.Network('Networks/RG_y.net')\n",
    "RG_net.PutUniTensors(['Tu','Td','UT','U'],[T[((2,4,dc))],T[((2,4,dc))],U.Dagger(),U])\n",
    "T[(4,4,dc)] = RG_net.Launch(optimal=True)\n",
    "\n",
    "T[(4,4,dc)].set_name('T[(4,4,D={})]'.format(dc))\n",
    "T[(4,4,dc)].print_diagram()\n",
    "T[(4,4,dc)].permute_([1,0,3,2])\n",
    "T[(4,4,dc)].print_diagram()"
   ]
  },
  {
   "cell_type": "code",
   "execution_count": 31,
   "id": "de831812-480c-4ee5-a3a8-53e9a995d7b1",
   "metadata": {},
   "outputs": [
    {
     "name": "stdout",
     "output_type": "stream",
     "text": [
      "E[(4,4,10)]/4/4= [-2.00045149 -2.00024499 -1.0841368  -1.05852116]\n",
      "-----------------------\n",
      "tensor Name : T[(4,4,D=10)]\n",
      "tensor Rank : 4\n",
      "block_form  : false\n",
      "is_diag     : False\n",
      "on device   : cytnx device: CPU\n",
      "            -------------      \n",
      "           /             \\     \n",
      "     1 ____| 10       10 |____ 3  \n",
      "           |             |     \n",
      "     0 ____| 10       10 |____ 2  \n",
      "           \\             /     \n",
      "            -------------      \n"
     ]
    }
   ],
   "source": [
    "TM[(4,4,dc)] = T_to_TM(T[(4,4,dc)])\n",
    "λ[(4,4,dc)], _ = cytnx.linalg.Eigh(TM[(4,4,dc)])\n",
    "λ[(4,4,dc)] = λ[(4,4,dc)].numpy()[::-1]\n",
    "E[(4,4,dc)] = -np.log(λ[(4,4,dc)])\n",
    "print('E[(4,4,{})]/4/4='.format(dc), E[(4,4,dc)][:4]/4/4)\n",
    "\n",
    "T[(4,4,dc)].set_name('T[(4,4,D={})]'.format(dc))\n",
    "T[(4,4,dc)].print_diagram()"
   ]
  },
  {
   "cell_type": "code",
   "execution_count": 32,
   "id": "c3272110-81bc-4703-a459-873e13fea80e",
   "metadata": {},
   "outputs": [
    {
     "data": {
      "text/plain": [
       "array([-2.0004515 , -2.000245  , -1.08572752, -1.05884264, -1.05884264,\n",
       "       -1.000245  , -0.99075728, -0.99075728, -0.99075728, -0.99075728,\n",
       "       -0.98126955, -0.92267191, -0.92267191, -0.89578703,  0.01844323,\n",
       "        0.01934938])"
      ]
     },
     "execution_count": 32,
     "metadata": {},
     "output_type": "execute_result"
    }
   ],
   "source": [
    "E[(4,4)]/4/4"
   ]
  },
  {
   "cell_type": "code",
   "execution_count": 33,
   "id": "08573330-a90e-4a94-855e-6fd2d18b2c44",
   "metadata": {},
   "outputs": [
    {
     "data": {
      "text/plain": [
       "array([-2.00045149, -2.00024499, -1.0841368 , -1.05852116, -1.04780284,\n",
       "       -0.99077559, -0.99075426, -0.96502329, -0.95895398, -0.95807185])"
      ]
     },
     "execution_count": 33,
     "metadata": {},
     "output_type": "execute_result"
    }
   ],
   "source": [
    "E[(4,4,10)]/4/4"
   ]
  }
 ],
 "metadata": {
  "kernelspec": {
   "display_name": "Python 3 (ipykernel)",
   "language": "python",
   "name": "python3"
  },
  "language_info": {
   "codemirror_mode": {
    "name": "ipython",
    "version": 3
   },
   "file_extension": ".py",
   "mimetype": "text/x-python",
   "name": "python",
   "nbconvert_exporter": "python",
   "pygments_lexer": "ipython3",
   "version": "3.8.13"
  }
 },
 "nbformat": 4,
 "nbformat_minor": 5
}
